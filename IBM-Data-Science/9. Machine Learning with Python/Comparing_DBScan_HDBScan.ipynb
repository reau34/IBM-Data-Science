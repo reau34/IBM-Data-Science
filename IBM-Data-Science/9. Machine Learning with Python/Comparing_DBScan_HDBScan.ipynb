{
 "cells": [
  {
   "cell_type": "markdown",
   "metadata": {},
   "source": [
    "<p style=\"text-align:center\">\n",
    "    <a href=\"https://skills.network\" target=\"_blank\">\n",
    "    <img src=\"https://cf-courses-data.s3.us.cloud-object-storage.appdomain.cloud/assets/logos/SN_web_lightmode.png\" width=\"200\" alt=\"Skills Network Logo\">\n",
    "    </a>\n",
    "</p>\n",
    "\n",
    "\n",
    "# Comparing DBSCAN and HDBSCAN clustering \n",
    "Estimated time needed: **30** minutes\n",
    "    \n",
    "\n",
    "## Objectives\n",
    "\n",
    "\n",
    "After completing this lab, you will be able to:\n",
    "\n",
    "* Use scikit-learn to implement DBSCAN and HDBSCAN clustering models to real data\n",
    "* Compare the performances of the two models \n",
    "\n"
   ]
  },
  {
   "cell_type": "markdown",
   "metadata": {},
   "source": [
    "## Introduction\n",
    "In this lab, you'll create two clustering models using data curated by StatCan containing the names, types, and locations of\n",
    "cultural and art facilities across Canada.\n",
    "We'll focus on the museum locations provided across Canada.\n",
    "\n",
    "#### Data source: The Open Database of Cultural and Art Facilities (ODCAF)\n",
    "\n",
    "A collection of open data containing the names, types, and locations of cultural and art facilities across Canada. \n",
    "It is released under the Open Government License - Canada.\n",
    "The different types of facilities are labeled under 'ODCAF_Facility_Type'.\n",
    "\n",
    "#### Landing page:\n",
    "https://www.statcan.gc.ca/en/lode/databases/odcaf\n",
    "\n",
    "#### link to zip file:\n",
    "https://www150.statcan.gc.ca/n1/en/pub/21-26-0001/2020001/ODCAF_V1.0.zip?st=brOCT3Ry\n"
   ]
  },
  {
   "cell_type": "markdown",
   "metadata": {},
   "source": [
    "## Import the required libraries\n"
   ]
  },
  {
   "cell_type": "code",
   "execution_count": 1,
   "metadata": {},
   "outputs": [
    {
     "name": "stdout",
     "output_type": "stream",
     "text": [
      "Collecting numpy==2.2.0\n",
      "  Downloading numpy-2.2.0-cp312-cp312-manylinux_2_17_x86_64.manylinux2014_x86_64.whl.metadata (62 kB)\n",
      "Downloading numpy-2.2.0-cp312-cp312-manylinux_2_17_x86_64.manylinux2014_x86_64.whl (16.1 MB)\n",
      "\u001b[2K   \u001b[90m━━━━━━━━━━━━━━━━━━━━━━━━━━━━━━━━━━━━━━━━\u001b[0m \u001b[32m16.1/16.1 MB\u001b[0m \u001b[31m151.3 MB/s\u001b[0m eta \u001b[36m0:00:00\u001b[0m\n",
      "Installing collected packages: numpy\n",
      "Successfully installed numpy-2.2.0\n",
      "Collecting pandas==2.2.3\n",
      "  Downloading pandas-2.2.3-cp312-cp312-manylinux_2_17_x86_64.manylinux2014_x86_64.whl.metadata (89 kB)\n",
      "Requirement already satisfied: numpy>=1.26.0 in /opt/conda/lib/python3.12/site-packages (from pandas==2.2.3) (2.2.0)\n",
      "Requirement already satisfied: python-dateutil>=2.8.2 in /opt/conda/lib/python3.12/site-packages (from pandas==2.2.3) (2.9.0.post0)\n",
      "Requirement already satisfied: pytz>=2020.1 in /opt/conda/lib/python3.12/site-packages (from pandas==2.2.3) (2024.2)\n",
      "Collecting tzdata>=2022.7 (from pandas==2.2.3)\n",
      "  Downloading tzdata-2025.1-py2.py3-none-any.whl.metadata (1.4 kB)\n",
      "Requirement already satisfied: six>=1.5 in /opt/conda/lib/python3.12/site-packages (from python-dateutil>=2.8.2->pandas==2.2.3) (1.17.0)\n",
      "Downloading pandas-2.2.3-cp312-cp312-manylinux_2_17_x86_64.manylinux2014_x86_64.whl (12.7 MB)\n",
      "\u001b[2K   \u001b[90m━━━━━━━━━━━━━━━━━━━━━━━━━━━━━━━━━━━━━━━━\u001b[0m \u001b[32m12.7/12.7 MB\u001b[0m \u001b[31m153.8 MB/s\u001b[0m eta \u001b[36m0:00:00\u001b[0m\n",
      "\u001b[?25hDownloading tzdata-2025.1-py2.py3-none-any.whl (346 kB)\n",
      "Installing collected packages: tzdata, pandas\n",
      "Successfully installed pandas-2.2.3 tzdata-2025.1\n",
      "Collecting scikit-learn==1.6.0\n",
      "  Downloading scikit_learn-1.6.0-cp312-cp312-manylinux_2_17_x86_64.manylinux2014_x86_64.whl.metadata (18 kB)\n",
      "Requirement already satisfied: numpy>=1.19.5 in /opt/conda/lib/python3.12/site-packages (from scikit-learn==1.6.0) (2.2.0)\n",
      "Collecting scipy>=1.6.0 (from scikit-learn==1.6.0)\n",
      "  Downloading scipy-1.15.1-cp312-cp312-manylinux_2_17_x86_64.manylinux2014_x86_64.whl.metadata (61 kB)\n",
      "Collecting joblib>=1.2.0 (from scikit-learn==1.6.0)\n",
      "  Downloading joblib-1.4.2-py3-none-any.whl.metadata (5.4 kB)\n",
      "Collecting threadpoolctl>=3.1.0 (from scikit-learn==1.6.0)\n",
      "  Downloading threadpoolctl-3.5.0-py3-none-any.whl.metadata (13 kB)\n",
      "Downloading scikit_learn-1.6.0-cp312-cp312-manylinux_2_17_x86_64.manylinux2014_x86_64.whl (13.1 MB)\n",
      "\u001b[2K   \u001b[90m━━━━━━━━━━━━━━━━━━━━━━━━━━━━━━━━━━━━━━━━\u001b[0m \u001b[32m13.1/13.1 MB\u001b[0m \u001b[31m124.5 MB/s\u001b[0m eta \u001b[36m0:00:00\u001b[0m\n",
      "Downloading joblib-1.4.2-py3-none-any.whl (301 kB)\n",
      "Downloading scipy-1.15.1-cp312-cp312-manylinux_2_17_x86_64.manylinux2014_x86_64.whl (40.2 MB)\n",
      "\u001b[2K   \u001b[90m━━━━━━━━━━━━━━━━━━━━━━━━━━━━━━━━━━━━━━━━\u001b[0m \u001b[32m40.2/40.2 MB\u001b[0m \u001b[31m140.5 MB/s\u001b[0m eta \u001b[36m0:00:00\u001b[0m00:01\u001b[0m\n",
      "Downloading threadpoolctl-3.5.0-py3-none-any.whl (18 kB)\n",
      "Installing collected packages: threadpoolctl, scipy, joblib, scikit-learn\n",
      "Successfully installed joblib-1.4.2 scikit-learn-1.6.0 scipy-1.15.1 threadpoolctl-3.5.0\n",
      "Collecting matplotlib==3.9.3\n",
      "  Downloading matplotlib-3.9.3-cp312-cp312-manylinux_2_17_x86_64.manylinux2014_x86_64.whl.metadata (11 kB)\n",
      "Collecting contourpy>=1.0.1 (from matplotlib==3.9.3)\n",
      "  Downloading contourpy-1.3.1-cp312-cp312-manylinux_2_17_x86_64.manylinux2014_x86_64.whl.metadata (5.4 kB)\n",
      "Collecting cycler>=0.10 (from matplotlib==3.9.3)\n",
      "  Downloading cycler-0.12.1-py3-none-any.whl.metadata (3.8 kB)\n",
      "Collecting fonttools>=4.22.0 (from matplotlib==3.9.3)\n",
      "  Downloading fonttools-4.55.8-cp312-cp312-manylinux_2_5_x86_64.manylinux1_x86_64.manylinux_2_17_x86_64.manylinux2014_x86_64.whl.metadata (101 kB)\n",
      "Collecting kiwisolver>=1.3.1 (from matplotlib==3.9.3)\n",
      "  Downloading kiwisolver-1.4.8-cp312-cp312-manylinux_2_17_x86_64.manylinux2014_x86_64.whl.metadata (6.2 kB)\n",
      "Requirement already satisfied: numpy>=1.23 in /opt/conda/lib/python3.12/site-packages (from matplotlib==3.9.3) (2.2.0)\n",
      "Requirement already satisfied: packaging>=20.0 in /opt/conda/lib/python3.12/site-packages (from matplotlib==3.9.3) (24.2)\n",
      "Collecting pillow>=8 (from matplotlib==3.9.3)\n",
      "  Downloading pillow-11.1.0-cp312-cp312-manylinux_2_28_x86_64.whl.metadata (9.1 kB)\n",
      "Collecting pyparsing>=2.3.1 (from matplotlib==3.9.3)\n",
      "  Downloading pyparsing-3.2.1-py3-none-any.whl.metadata (5.0 kB)\n",
      "Requirement already satisfied: python-dateutil>=2.7 in /opt/conda/lib/python3.12/site-packages (from matplotlib==3.9.3) (2.9.0.post0)\n",
      "Requirement already satisfied: six>=1.5 in /opt/conda/lib/python3.12/site-packages (from python-dateutil>=2.7->matplotlib==3.9.3) (1.17.0)\n",
      "Downloading matplotlib-3.9.3-cp312-cp312-manylinux_2_17_x86_64.manylinux2014_x86_64.whl (8.3 MB)\n",
      "\u001b[2K   \u001b[90m━━━━━━━━━━━━━━━━━━━━━━━━━━━━━━━━━━━━━━━━\u001b[0m \u001b[32m8.3/8.3 MB\u001b[0m \u001b[31m104.9 MB/s\u001b[0m eta \u001b[36m0:00:00\u001b[0m\n",
      "\u001b[?25hDownloading contourpy-1.3.1-cp312-cp312-manylinux_2_17_x86_64.manylinux2014_x86_64.whl (323 kB)\n",
      "Downloading cycler-0.12.1-py3-none-any.whl (8.3 kB)\n",
      "Downloading fonttools-4.55.8-cp312-cp312-manylinux_2_5_x86_64.manylinux1_x86_64.manylinux_2_17_x86_64.manylinux2014_x86_64.whl (4.9 MB)\n",
      "\u001b[2K   \u001b[90m━━━━━━━━━━━━━━━━━━━━━━━━━━━━━━━━━━━━━━━━\u001b[0m \u001b[32m4.9/4.9 MB\u001b[0m \u001b[31m113.1 MB/s\u001b[0m eta \u001b[36m0:00:00\u001b[0m\n",
      "\u001b[?25hDownloading kiwisolver-1.4.8-cp312-cp312-manylinux_2_17_x86_64.manylinux2014_x86_64.whl (1.5 MB)\n",
      "\u001b[2K   \u001b[90m━━━━━━━━━━━━━━━━━━━━━━━━━━━━━━━━━━━━━━━━\u001b[0m \u001b[32m1.5/1.5 MB\u001b[0m \u001b[31m59.2 MB/s\u001b[0m eta \u001b[36m0:00:00\u001b[0m\n",
      "\u001b[?25hDownloading pillow-11.1.0-cp312-cp312-manylinux_2_28_x86_64.whl (4.5 MB)\n",
      "\u001b[2K   \u001b[90m━━━━━━━━━━━━━━━━━━━━━━━━━━━━━━━━━━━━━━━━\u001b[0m \u001b[32m4.5/4.5 MB\u001b[0m \u001b[31m106.8 MB/s\u001b[0m eta \u001b[36m0:00:00\u001b[0m\n",
      "\u001b[?25hDownloading pyparsing-3.2.1-py3-none-any.whl (107 kB)\n",
      "Installing collected packages: pyparsing, pillow, kiwisolver, fonttools, cycler, contourpy, matplotlib\n",
      "Successfully installed contourpy-1.3.1 cycler-0.12.1 fonttools-4.55.8 kiwisolver-1.4.8 matplotlib-3.9.3 pillow-11.1.0 pyparsing-3.2.1\n",
      "Collecting hdbscan==0.8.40\n",
      "  Downloading hdbscan-0.8.40.tar.gz (6.9 MB)\n",
      "\u001b[2K     \u001b[90m━━━━━━━━━━━━━━━━━━━━━━━━━━━━━━━━━━━━━━━━\u001b[0m \u001b[32m6.9/6.9 MB\u001b[0m \u001b[31m135.7 MB/s\u001b[0m eta \u001b[36m0:00:00\u001b[0m\n",
      "  Installing build dependencies ...done\n",
      "\u001b[?25h  Getting requirements to build wheel done\n",
      "\u001b[?25h  Preparing metadata (pyproject.toml) ... \u001b[?25ldone\n",
      "\u001b[?25hRequirement already satisfied: numpy<3,>=1.20 in /opt/conda/lib/python3.12/site-packages (from hdbscan==0.8.40) (2.2.0)\n",
      "Requirement already satisfied: scipy>=1.0 in /opt/conda/lib/python3.12/site-packages (from hdbscan==0.8.40) (1.15.1)\n",
      "Requirement already satisfied: scikit-learn>=0.20 in /opt/conda/lib/python3.12/site-packages (from hdbscan==0.8.40) (1.6.0)\n",
      "Requirement already satisfied: joblib>=1.0 in /opt/conda/lib/python3.12/site-packages (from hdbscan==0.8.40) (1.4.2)\n",
      "Requirement already satisfied: threadpoolctl>=3.1.0 in /opt/conda/lib/python3.12/site-packages (from scikit-learn>=0.20->hdbscan==0.8.40) (3.5.0)\n",
      "Building wheels for collected packages: hdbscan\n",
      "  Building wheel for hdbscan (pyproject.tdone\n",
      "\u001b[?25h  Created wheel for hdbscan: filename=hdbscan-0.8.40-cp312-cp312-linux_x86_64.whl size=895797 sha256=f5a248f7858e4d2d6015e1a8ed449ee89330e8a7cfd5a872e06d5b2cf5e95eba\n",
      "  Stored in directory: /home/jupyterlab/.cache/pip/wheels/80/e7/bb/173ca0d8ce12718c4b5e6e01619c99653579b56969b97604b2\n",
      "Successfully built hdbscan\n",
      "Installing collected packages: hdbscan\n",
      "Successfully installed hdbscan-0.8.40\n",
      "Collecting geopandas==1.0.1\n",
      "  Downloading geopandas-1.0.1-py3-none-any.whl.metadata (2.2 kB)\n",
      "Requirement already satisfied: numpy>=1.22 in /opt/conda/lib/python3.12/site-packages (from geopandas==1.0.1) (2.2.0)\n",
      "Collecting pyogrio>=0.7.2 (from geopandas==1.0.1)\n",
      "  Downloading pyogrio-0.10.0-cp312-cp312-manylinux_2_28_x86_64.whl.metadata (5.5 kB)\n",
      "Requirement already satisfied: packaging in /opt/conda/lib/python3.12/site-packages (from geopandas==1.0.1) (24.2)\n",
      "Requirement already satisfied: pandas>=1.4.0 in /opt/conda/lib/python3.12/site-packages (from geopandas==1.0.1) (2.2.3)\n",
      "Collecting pyproj>=3.3.0 (from geopandas==1.0.1)\n",
      "  Downloading pyproj-3.7.0-cp312-cp312-manylinux_2_17_x86_64.manylinux2014_x86_64.whl.metadata (31 kB)\n",
      "Collecting shapely>=2.0.0 (from geopandas==1.0.1)\n",
      "  Downloading shapely-2.0.7-cp312-cp312-manylinux_2_17_x86_64.manylinux2014_x86_64.whl.metadata (6.8 kB)\n",
      "Requirement already satisfied: python-dateutil>=2.8.2 in /opt/conda/lib/python3.12/site-packages (from pandas>=1.4.0->geopandas==1.0.1) (2.9.0.post0)\n",
      "Requirement already satisfied: pytz>=2020.1 in /opt/conda/lib/python3.12/site-packages (from pandas>=1.4.0->geopandas==1.0.1) (2024.2)\n",
      "Requirement already satisfied: tzdata>=2022.7 in /opt/conda/lib/python3.12/site-packages (from pandas>=1.4.0->geopandas==1.0.1) (2025.1)\n",
      "Requirement already satisfied: certifi in /opt/conda/lib/python3.12/site-packages (from pyogrio>=0.7.2->geopandas==1.0.1) (2024.12.14)\n",
      "Requirement already satisfied: six>=1.5 in /opt/conda/lib/python3.12/site-packages (from python-dateutil>=2.8.2->pandas>=1.4.0->geopandas==1.0.1) (1.17.0)\n",
      "Downloading geopandas-1.0.1-py3-none-any.whl (323 kB)\n",
      "Downloading pyogrio-0.10.0-cp312-cp312-manylinux_2_28_x86_64.whl (24.0 MB)\n",
      "\u001b[2K   \u001b[90m━━━━━━━━━━━━━━━━━━━━━━━━━━━━━━━━━━━━━━━━\u001b[0m \u001b[32m24.0/24.0 MB\u001b[0m \u001b[31m150.1 MB/s\u001b[0m eta \u001b[36m0:00:00\u001b[0m\n",
      "\u001b[?25hDownloading pyproj-3.7.0-cp312-cp312-manylinux_2_17_x86_64.manylinux2014_x86_64.whl (9.5 MB)\n",
      "\u001b[2K   \u001b[90m━━━━━━━━━━━━━━━━━━━━━━━━━━━━━━━━━━━━━━━━\u001b[0m \u001b[32m9.5/9.5 MB\u001b[0m \u001b[31m162.2 MB/s\u001b[0m eta \u001b[36m0:00:00\u001b[0m\n",
      "\u001b[?25hDownloading shapely-2.0.7-cp312-cp312-manylinux_2_17_x86_64.manylinux2014_x86_64.whl (2.5 MB)\n",
      "\u001b[2K   \u001b[90m━━━━━━━━━━━━━━━━━━━━━━━━━━━━━━━━━━━━━━━━\u001b[0m \u001b[32m2.5/2.5 MB\u001b[0m \u001b[31m96.7 MB/s\u001b[0m eta \u001b[36m0:00:00\u001b[0m\n",
      "Installing collected packages: shapely, pyproj, pyogrio, geopandas\n",
      "Successfully installed geopandas-1.0.1 pyogrio-0.10.0 pyproj-3.7.0 shapely-2.0.7\n",
      "Collecting contextily==1.6.2\n",
      "  Downloading contextily-1.6.2-py3-none-any.whl.metadata (2.9 kB)\n",
      "Collecting geopy (from contextily==1.6.2)\n",
      "  Downloading geopy-2.4.1-py3-none-any.whl.metadata (6.8 kB)\n",
      "Requirement already satisfied: matplotlib in /opt/conda/lib/python3.12/site-packages (from contextily==1.6.2) (3.9.3)\n",
      "Collecting mercantile (from contextily==1.6.2)\n",
      "  Downloading mercantile-1.2.1-py3-none-any.whl.metadata (4.8 kB)\n",
      "Requirement already satisfied: pillow in /opt/conda/lib/python3.12/site-packages (from contextily==1.6.2) (11.1.0)\n",
      "Collecting rasterio (from contextily==1.6.2)\n",
      "  Downloading rasterio-1.4.3-cp312-cp312-manylinux_2_17_x86_64.manylinux2014_x86_64.whl.metadata (9.1 kB)\n",
      "Requirement already satisfied: requests in /opt/conda/lib/python3.12/site-packages (from contextily==1.6.2) (2.32.3)\n",
      "Requirement already satisfied: joblib in /opt/conda/lib/python3.12/site-packages (from contextily==1.6.2) (1.4.2)\n",
      "Collecting xyzservices (from contextily==1.6.2)\n",
      "  Downloading xyzservices-2025.1.0-py3-none-any.whl.metadata (4.3 kB)\n",
      "Collecting geographiclib<3,>=1.52 (from geopy->contextily==1.6.2)\n",
      "  Downloading geographiclib-2.0-py3-none-any.whl.metadata (1.4 kB)\n",
      "Requirement already satisfied: contourpy>=1.0.1 in /opt/conda/lib/python3.12/site-packages (from matplotlib->contextily==1.6.2) (1.3.1)\n",
      "Requirement already satisfied: cycler>=0.10 in /opt/conda/lib/python3.12/site-packages (from matplotlib->contextily==1.6.2) (0.12.1)\n",
      "Requirement already satisfied: fonttools>=4.22.0 in /opt/conda/lib/python3.12/site-packages (from matplotlib->contextily==1.6.2) (4.55.8)\n",
      "Requirement already satisfied: kiwisolver>=1.3.1 in /opt/conda/lib/python3.12/site-packages (from matplotlib->contextily==1.6.2) (1.4.8)\n",
      "Requirement already satisfied: numpy>=1.23 in /opt/conda/lib/python3.12/site-packages (from matplotlib->contextily==1.6.2) (2.2.0)\n",
      "Requirement already satisfied: packaging>=20.0 in /opt/conda/lib/python3.12/site-packages (from matplotlib->contextily==1.6.2) (24.2)\n",
      "Requirement already satisfied: pyparsing>=2.3.1 in /opt/conda/lib/python3.12/site-packages (from matplotlib->contextily==1.6.2) (3.2.1)\n",
      "Requirement already satisfied: python-dateutil>=2.7 in /opt/conda/lib/python3.12/site-packages (from matplotlib->contextily==1.6.2) (2.9.0.post0)\n",
      "Collecting click>=3.0 (from mercantile->contextily==1.6.2)\n",
      "  Downloading click-8.1.8-py3-none-any.whl.metadata (2.3 kB)\n",
      "Collecting affine (from rasterio->contextily==1.6.2)\n",
      "  Downloading affine-2.4.0-py3-none-any.whl.metadata (4.0 kB)\n",
      "Requirement already satisfied: attrs in /opt/conda/lib/python3.12/site-packages (from rasterio->contextily==1.6.2) (25.1.0)\n",
      "Requirement already satisfied: certifi in /opt/conda/lib/python3.12/site-packages (from rasterio->contextily==1.6.2) (2024.12.14)\n",
      "Collecting cligj>=0.5 (from rasterio->contextily==1.6.2)\n",
      "  Downloading cligj-0.7.2-py3-none-any.whl.metadata (5.0 kB)\n",
      "Collecting click-plugins (from rasterio->contextily==1.6.2)\n",
      "  Downloading click_plugins-1.1.1-py2.py3-none-any.whl.metadata (6.4 kB)\n",
      "Requirement already satisfied: charset_normalizer<4,>=2 in /opt/conda/lib/python3.12/site-packages (from requests->contextily==1.6.2) (3.4.1)\n",
      "Requirement already satisfied: idna<4,>=2.5 in /opt/conda/lib/python3.12/site-packages (from requests->contextily==1.6.2) (3.10)\n",
      "Requirement already satisfied: urllib3<3,>=1.21.1 in /opt/conda/lib/python3.12/site-packages (from requests->contextily==1.6.2) (2.3.0)\n",
      "Requirement already satisfied: six>=1.5 in /opt/conda/lib/python3.12/site-packages (from python-dateutil>=2.7->matplotlib->contextily==1.6.2) (1.17.0)\n",
      "Downloading contextily-1.6.2-py3-none-any.whl (17 kB)\n",
      "Downloading geopy-2.4.1-py3-none-any.whl (125 kB)\n",
      "Downloading mercantile-1.2.1-py3-none-any.whl (14 kB)\n",
      "Downloading rasterio-1.4.3-cp312-cp312-manylinux_2_17_x86_64.manylinux2014_x86_64.whl (22.3 MB)\n",
      "\u001b[2K   \u001b[90m━━━━━━━━━━━━━━━━━━━━━━━━━━━━━━━━━━━━━━━━\u001b[0m \u001b[32m22.3/22.3 MB\u001b[0m \u001b[31m141.5 MB/s\u001b[0m eta \u001b[36m0:00:00\u001b[0m\n",
      "\u001b[?25hDownloading xyzservices-2025.1.0-py3-none-any.whl (88 kB)\n",
      "Downloading click-8.1.8-py3-none-any.whl (98 kB)\n",
      "Downloading cligj-0.7.2-py3-none-any.whl (7.1 kB)\n",
      "Downloading geographiclib-2.0-py3-none-any.whl (40 kB)\n",
      "Downloading affine-2.4.0-py3-none-any.whl (15 kB)\n",
      "Downloading click_plugins-1.1.1-py2.py3-none-any.whl (7.5 kB)\n",
      "Installing collected packages: xyzservices, geographiclib, click, affine, mercantile, geopy, cligj, click-plugins, rasterio, contextily\n",
      "Successfully installed affine-2.4.0 click-8.1.8 click-plugins-1.1.1 cligj-0.7.2 contextily-1.6.2 geographiclib-2.0 geopy-2.4.1 mercantile-1.2.1 rasterio-1.4.3 xyzservices-2025.1.0\n",
      "Collecting shapely==2.0.6\n",
      "  Downloading shapely-2.0.6-cp312-cp312-manylinux_2_17_x86_64.manylinux2014_x86_64.whl.metadata (7.0 kB)\n",
      "Requirement already satisfied: numpy<3,>=1.14 in /opt/conda/lib/python3.12/site-packages (from shapely==2.0.6) (2.2.0)\n",
      "Downloading shapely-2.0.6-cp312-cp312-manylinux_2_17_x86_64.manylinux2014_x86_64.whl (2.5 MB)\n",
      "\u001b[2K   \u001b[90m━━━━━━━━━━━━━━━━━━━━━━━━━━━━━━━━━━━━━━━━\u001b[0m \u001b[32m2.5/2.5 MB\u001b[0m \u001b[31m99.0 MB/s\u001b[0m eta \u001b[36m0:00:00\u001b[0m\n",
      "Installing collected packages: shapely\n",
      "  Attempting uninstall: shapely\n",
      "    Found existing installation: shapely 2.0.7\n",
      "    Uninstalling shapely-2.0.7:\n",
      "      Successfully uninstalled shapely-2.0.7\n",
      "Successfully installed shapely-2.0.6\n"
     ]
    }
   ],
   "source": [
    "!pip install numpy==2.2.0\n",
    "!pip install pandas==2.2.3\n",
    "!pip install scikit-learn==1.6.0\n",
    "!pip install matplotlib==3.9.3\n",
    "!pip install hdbscan==0.8.40\n",
    "!pip install geopandas==1.0.1\n",
    "!pip install contextily==1.6.2\n",
    "!pip install shapely==2.0.6"
   ]
  },
  {
   "cell_type": "code",
   "execution_count": 2,
   "metadata": {},
   "outputs": [],
   "source": [
    "import numpy as np\n",
    "import pandas as pd\n",
    "import matplotlib.pyplot as plt\n",
    "from sklearn.cluster import DBSCAN\n",
    "import hdbscan\n",
    "from sklearn.preprocessing import StandardScaler\n",
    "\n",
    "# geographical tools\n",
    "import geopandas as gpd  # pandas dataframe-like geodataframes for geographical data\n",
    "import contextily as ctx  # used for obtianing a basemap of Canada\n",
    "from shapely.geometry import Point\n",
    "\n",
    "import warnings\n",
    "warnings.filterwarnings('ignore')"
   ]
  },
  {
   "cell_type": "markdown",
   "metadata": {},
   "source": [
    "## Download the Canada map for reference\n",
    "\n",
    "To get a proper context of the final output of this lab, you need a reference map of Canada. Execute the cell below to extract the same to this lab environment.\n"
   ]
  },
  {
   "cell_type": "code",
   "execution_count": 3,
   "metadata": {},
   "outputs": [
    {
     "name": "stdout",
     "output_type": "stream",
     "text": [
      "Downloaded and extracted: Canada.tif\n"
     ]
    }
   ],
   "source": [
    "import requests\n",
    "import zipfile\n",
    "import io\n",
    "import os\n",
    "\n",
    "# URL of the ZIP file on the cloud server\n",
    "zip_file_url = 'https://cf-courses-data.s3.us.cloud-object-storage.appdomain.cloud/YcUk-ytgrPkmvZAh5bf7zA/Canada.zip'\n",
    "\n",
    "# Directory to save the extracted TIFF file\n",
    "output_dir = './'\n",
    "os.makedirs(output_dir, exist_ok=True)\n",
    "\n",
    "# Step 1: Download the ZIP file\n",
    "response = requests.get(zip_file_url)\n",
    "response.raise_for_status()  # Ensure the request was successful\n",
    "# Step 2: Open the ZIP file in memory\n",
    "with zipfile.ZipFile(io.BytesIO(response.content)) as zip_ref:\n",
    "    # Step 3: Iterate over the files in the ZIP\n",
    "    for file_name in zip_ref.namelist():\n",
    "        if file_name.endswith('.tif'):  # Check if it's a TIFF file\n",
    "            # Step 4: Extract the TIFF file\n",
    "            zip_ref.extract(file_name, output_dir)\n",
    "            print(f\"Downloaded and extracted: {file_name}\")"
   ]
  },
  {
   "cell_type": "markdown",
   "metadata": {},
   "source": [
    "## Include a plotting function\n",
    "The code for a helper function is provided to help you plot your results. Although you don't need to worry about the details, it's quite instructive as it uses a geopandas dataframe and a basemap to plot coloured cluster points on a map of Canada.\n"
   ]
  },
  {
   "cell_type": "code",
   "execution_count": 4,
   "metadata": {},
   "outputs": [],
   "source": [
    "# Write a function that plots clustered locations and overlays them on a basemap.\n",
    "\n",
    "def plot_clustered_locations(df,  title='Museums Clustered by Proximity'):\n",
    "    \"\"\"\n",
    "    Plots clustered locations and overlays on a basemap.\n",
    "    \n",
    "    Parameters:\n",
    "    - df: DataFrame containing 'Latitude', 'Longitude', and 'Cluster' columns\n",
    "    - title: str, title of the plot\n",
    "    \"\"\"\n",
    "    \n",
    "    # Load the coordinates intto a GeoDataFrame\n",
    "    gdf = gpd.GeoDataFrame(df, geometry=gpd.points_from_xy(df['Longitude'], df['Latitude']), crs=\"EPSG:4326\")\n",
    "    \n",
    "    # Reproject to Web Mercator to align with basemap \n",
    "    gdf = gdf.to_crs(epsg=3857)\n",
    "    \n",
    "    # Create the plot\n",
    "    fig, ax = plt.subplots(figsize=(15, 10))\n",
    "    \n",
    "    # Separate non-noise, or clustered points from noise, or unclustered points\n",
    "    non_noise = gdf[gdf['Cluster'] != -1]\n",
    "    noise = gdf[gdf['Cluster'] == -1]\n",
    "    \n",
    "    # Plot noise points \n",
    "    noise.plot(ax=ax, color='k', markersize=30, ec='r', alpha=1, label='Noise')\n",
    "    \n",
    "    # Plot clustered points, colured by 'Cluster' number\n",
    "    non_noise.plot(ax=ax, column='Cluster', cmap='tab10', markersize=30, ec='k', legend=False, alpha=0.6)\n",
    "    \n",
    "    # Add basemap of  Canada\n",
    "    ctx.add_basemap(ax, source='./Canada.tif', zoom=4)\n",
    "    \n",
    "    # Format plot\n",
    "    plt.title(title, )\n",
    "    plt.xlabel('Longitude', )\n",
    "    plt.ylabel('Latitude', )\n",
    "    ax.set_xticks([])\n",
    "    ax.set_yticks([])\n",
    "    plt.tight_layout()\n",
    "    \n",
    "    # Show the plot\n",
    "    plt.show()"
   ]
  },
  {
   "cell_type": "markdown",
   "metadata": {},
   "source": [
    "## Explore the data and extract what you need from it\n"
   ]
  },
  {
   "cell_type": "markdown",
   "metadata": {},
   "source": [
    "#### Start by loading the data set into a Pandas DataFrame and displaying the first few rows.\n"
   ]
  },
  {
   "cell_type": "code",
   "execution_count": 5,
   "metadata": {},
   "outputs": [],
   "source": [
    "url = 'https://cf-courses-data.s3.us.cloud-object-storage.appdomain.cloud/r-maSj5Yegvw2sJraT15FA/ODCAF-v1-0.csv'\n",
    "df = pd.read_csv(url, encoding = \"ISO-8859-1\")"
   ]
  },
  {
   "cell_type": "code",
   "execution_count": 6,
   "metadata": {},
   "outputs": [
    {
     "data": {
      "text/html": [
       "<div>\n",
       "<style scoped>\n",
       "    .dataframe tbody tr th:only-of-type {\n",
       "        vertical-align: middle;\n",
       "    }\n",
       "\n",
       "    .dataframe tbody tr th {\n",
       "        vertical-align: top;\n",
       "    }\n",
       "\n",
       "    .dataframe thead th {\n",
       "        text-align: right;\n",
       "    }\n",
       "</style>\n",
       "<table border=\"1\" class=\"dataframe\">\n",
       "  <thead>\n",
       "    <tr style=\"text-align: right;\">\n",
       "      <th></th>\n",
       "      <th>Index</th>\n",
       "      <th>Facility_Name</th>\n",
       "      <th>Source_Facility_Type</th>\n",
       "      <th>ODCAF_Facility_Type</th>\n",
       "      <th>Provider</th>\n",
       "      <th>Unit</th>\n",
       "      <th>Street_No</th>\n",
       "      <th>Street_Name</th>\n",
       "      <th>Postal_Code</th>\n",
       "      <th>City</th>\n",
       "      <th>Prov_Terr</th>\n",
       "      <th>Source_Format_Address</th>\n",
       "      <th>CSD_Name</th>\n",
       "      <th>CSDUID</th>\n",
       "      <th>PRUID</th>\n",
       "      <th>Latitude</th>\n",
       "      <th>Longitude</th>\n",
       "    </tr>\n",
       "  </thead>\n",
       "  <tbody>\n",
       "    <tr>\n",
       "      <th>0</th>\n",
       "      <td>1</td>\n",
       "      <td>#Hashtag Gallery</td>\n",
       "      <td>..</td>\n",
       "      <td>gallery</td>\n",
       "      <td>toronto</td>\n",
       "      <td>..</td>\n",
       "      <td>801</td>\n",
       "      <td>dundas st w</td>\n",
       "      <td>M6J 1V2</td>\n",
       "      <td>toronto</td>\n",
       "      <td>on</td>\n",
       "      <td>801 dundas st w</td>\n",
       "      <td>Toronto</td>\n",
       "      <td>3520005</td>\n",
       "      <td>35</td>\n",
       "      <td>43.65169472</td>\n",
       "      <td>-79.40803272</td>\n",
       "    </tr>\n",
       "    <tr>\n",
       "      <th>1</th>\n",
       "      <td>2</td>\n",
       "      <td>'Ksan Historical Village &amp; Museum</td>\n",
       "      <td>historic site-building or park</td>\n",
       "      <td>museum</td>\n",
       "      <td>canadian museums association</td>\n",
       "      <td>..</td>\n",
       "      <td>1500</td>\n",
       "      <td>62 hwy</td>\n",
       "      <td>V0J 1Y0</td>\n",
       "      <td>hazelton</td>\n",
       "      <td>bc</td>\n",
       "      <td>1500 hwy 62 hazelton british columbia v0j 1y0 ...</td>\n",
       "      <td>Hazelton</td>\n",
       "      <td>5949022</td>\n",
       "      <td>59</td>\n",
       "      <td>55.2645508</td>\n",
       "      <td>-127.6428124</td>\n",
       "    </tr>\n",
       "    <tr>\n",
       "      <th>2</th>\n",
       "      <td>3</td>\n",
       "      <td>'School Days' Museum</td>\n",
       "      <td>community/regional museum</td>\n",
       "      <td>museum</td>\n",
       "      <td>canadian museums association</td>\n",
       "      <td>..</td>\n",
       "      <td>427</td>\n",
       "      <td>queen st</td>\n",
       "      <td>E3B 5R6</td>\n",
       "      <td>fredericton</td>\n",
       "      <td>nb</td>\n",
       "      <td>427 queen st fredericton new brunswick e3b 5r6...</td>\n",
       "      <td>Fredericton</td>\n",
       "      <td>1310032</td>\n",
       "      <td>13</td>\n",
       "      <td>45.963283</td>\n",
       "      <td>-66.6419017</td>\n",
       "    </tr>\n",
       "    <tr>\n",
       "      <th>3</th>\n",
       "      <td>4</td>\n",
       "      <td>10 Austin Street</td>\n",
       "      <td>built heritage properties</td>\n",
       "      <td>heritage or historic site</td>\n",
       "      <td>moncton</td>\n",
       "      <td>..</td>\n",
       "      <td>10</td>\n",
       "      <td>austin st</td>\n",
       "      <td>E1C 1Z6</td>\n",
       "      <td>moncton</td>\n",
       "      <td>nb</td>\n",
       "      <td>10 austin st</td>\n",
       "      <td>Moncton</td>\n",
       "      <td>1307022</td>\n",
       "      <td>13</td>\n",
       "      <td>46.09247776</td>\n",
       "      <td>-64.78022946</td>\n",
       "    </tr>\n",
       "    <tr>\n",
       "      <th>4</th>\n",
       "      <td>5</td>\n",
       "      <td>10 Gates Dancing Inc.</td>\n",
       "      <td>arts</td>\n",
       "      <td>miscellaneous</td>\n",
       "      <td>ottawa</td>\n",
       "      <td>..</td>\n",
       "      <td>..</td>\n",
       "      <td>..</td>\n",
       "      <td>..</td>\n",
       "      <td>ottawa</td>\n",
       "      <td>on</td>\n",
       "      <td>..</td>\n",
       "      <td>Ottawa</td>\n",
       "      <td>3506008</td>\n",
       "      <td>35</td>\n",
       "      <td>45.40856224</td>\n",
       "      <td>-75.71536766</td>\n",
       "    </tr>\n",
       "  </tbody>\n",
       "</table>\n",
       "</div>"
      ],
      "text/plain": [
       "   Index                      Facility_Name            Source_Facility_Type  \\\n",
       "0      1                   #Hashtag Gallery                              ..   \n",
       "1      2  'Ksan Historical Village & Museum  historic site-building or park   \n",
       "2      3               'School Days' Museum       community/regional museum   \n",
       "3      4                   10 Austin Street       built heritage properties   \n",
       "4      5              10 Gates Dancing Inc.                            arts   \n",
       "\n",
       "         ODCAF_Facility_Type                      Provider Unit Street_No  \\\n",
       "0                    gallery                       toronto   ..       801   \n",
       "1                     museum  canadian museums association   ..      1500   \n",
       "2                     museum  canadian museums association   ..       427   \n",
       "3  heritage or historic site                       moncton   ..        10   \n",
       "4              miscellaneous                        ottawa   ..        ..   \n",
       "\n",
       "   Street_Name Postal_Code         City Prov_Terr  \\\n",
       "0  dundas st w     M6J 1V2      toronto        on   \n",
       "1       62 hwy     V0J 1Y0     hazelton        bc   \n",
       "2     queen st     E3B 5R6  fredericton        nb   \n",
       "3    austin st     E1C 1Z6      moncton        nb   \n",
       "4           ..          ..       ottawa        on   \n",
       "\n",
       "                               Source_Format_Address     CSD_Name   CSDUID  \\\n",
       "0                                    801 dundas st w      Toronto  3520005   \n",
       "1  1500 hwy 62 hazelton british columbia v0j 1y0 ...     Hazelton  5949022   \n",
       "2  427 queen st fredericton new brunswick e3b 5r6...  Fredericton  1310032   \n",
       "3                                       10 austin st      Moncton  1307022   \n",
       "4                                                 ..       Ottawa  3506008   \n",
       "\n",
       "  PRUID     Latitude     Longitude  \n",
       "0    35  43.65169472  -79.40803272  \n",
       "1    59   55.2645508  -127.6428124  \n",
       "2    13    45.963283   -66.6419017  \n",
       "3    13  46.09247776  -64.78022946  \n",
       "4    35  45.40856224  -75.71536766  "
      ]
     },
     "execution_count": 6,
     "metadata": {},
     "output_type": "execute_result"
    }
   ],
   "source": [
    "df.head()"
   ]
  },
  {
   "cell_type": "markdown",
   "metadata": {},
   "source": [
    "### Exercise 1. Explore the table. What do missing values look like in this data set?\n"
   ]
  },
  {
   "cell_type": "markdown",
   "metadata": {},
   "source": [
    "<details><summary>Click here for the solution</summary>\n",
    "Strings consisting of two dots '..' indicate missing values. There miight still be empty fields, or NaNs.\n",
    "</details>\n"
   ]
  },
  {
   "cell_type": "markdown",
   "metadata": {},
   "source": [
    "### Exercise 2. Display the facility types and their counts.\n"
   ]
  },
  {
   "cell_type": "code",
   "execution_count": null,
   "metadata": {},
   "outputs": [],
   "source": [
    "# your code here\n"
   ]
  },
  {
   "cell_type": "markdown",
   "metadata": {},
   "source": [
    "<details><summary>Click here for the solution</summary>\n",
    "    \n",
    "```python\n",
    "df.ODCAF_Facility_Type.value_counts()\n",
    "```\n",
    "\n",
    "</details>\n"
   ]
  },
  {
   "cell_type": "markdown",
   "metadata": {},
   "source": [
    "### Exercise 3. Filter the data to only include museums.\n",
    "Check your results. Did you get as many as you expected?\n"
   ]
  },
  {
   "cell_type": "code",
   "execution_count": null,
   "metadata": {},
   "outputs": [],
   "source": [
    "# your code here"
   ]
  },
  {
   "cell_type": "markdown",
   "metadata": {},
   "source": [
    "<details><summary>Click here for the solution</summary>\n",
    "\n",
    "```python\n",
    "df = df[df.ODCAF_Facility_Type == 'museum']\n",
    "df.ODCAF_Facility_Type.value_counts()\n",
    "```\n",
    "\n",
    "</details>\n"
   ]
  },
  {
   "cell_type": "markdown",
   "metadata": {},
   "source": [
    "### Exercise 4.  Select only the Latitude and Longitude features as inputs to our clustering problem.\n",
    "Also, display information about the coordinates like counts and data types.\n"
   ]
  },
  {
   "cell_type": "code",
   "execution_count": null,
   "metadata": {},
   "outputs": [],
   "source": [
    "# your code here\n"
   ]
  },
  {
   "cell_type": "markdown",
   "metadata": {},
   "source": [
    "<details><summary>Click here for the solution</summary>\n",
    "\n",
    "```python\n",
    "df = df[['Latitude', 'Longitude']]\n",
    "df.info()\n",
    "```\n",
    "\n",
    "</details>\n"
   ]
  },
  {
   "cell_type": "markdown",
   "metadata": {},
   "source": [
    "### Exercise 5. We'll need these coordinates to be floats, not objects.\n",
    "Remove any museums that don't have coordinates, and convert the remaining coordinates to floats.\n"
   ]
  },
  {
   "cell_type": "code",
   "execution_count": null,
   "metadata": {},
   "outputs": [],
   "source": [
    "# your code here"
   ]
  },
  {
   "cell_type": "markdown",
   "metadata": {},
   "source": [
    "<details><summary>Click here for the solution</summary>\n",
    "\n",
    "```python\n",
    "\n",
    "# Remove observations with no coordinates \n",
    "df = df[df.Latitude!='..']\n",
    "\n",
    "# Convert to float\n",
    "df[['Latitude','Longitude']] = df[['Latitude','Longitude']].astype('float')\n",
    "```\n",
    "\n",
    "</details>\n"
   ]
  },
  {
   "cell_type": "markdown",
   "metadata": {},
   "source": [
    "## Build a DBSCAN model\n",
    "##### Correctly scale the coordinates for DBSCAN (since DBSCAN is sensitive to scale)\n"
   ]
  },
  {
   "cell_type": "code",
   "execution_count": null,
   "metadata": {},
   "outputs": [],
   "source": [
    "# In this case we know how to scale the coordinates. Using standardization would be an error becaues we aren't using the full range of the lat/lng coordinates.\n",
    "# Since latitude has a range of +/- 90 degrees and longitude ranges from 0 to 360 degrees, the correct scaling is to double the longitude coordinates (or half the Latitudes)\n",
    "coords_scaled = df.copy()\n",
    "coords_scaled[\"Latitude\"] = 2*coords_scaled[\"Latitude\"]"
   ]
  },
  {
   "cell_type": "markdown",
   "metadata": {},
   "source": [
    "### Apply DBSCAN with Euclidean distance to the scaled coordinates\n",
    "In this case, reasonable neighbourhood parameters are already chosen for you. Feel free to experiment.\n"
   ]
  },
  {
   "cell_type": "code",
   "execution_count": null,
   "metadata": {},
   "outputs": [],
   "source": [
    "min_samples=3 # minimum number of samples needed to form a neighbourhood\n",
    "eps=1.0 # neighbourhood search radius\n",
    "metric='euclidean' # distance measure \n",
    "\n",
    "dbscan = DBSCAN(eps=eps, min_samples=min_samples, metric=metric).fit(coords_scaled)"
   ]
  },
  {
   "cell_type": "markdown",
   "metadata": {},
   "source": [
    "### Add cluster labels to the DataFrame\n"
   ]
  },
  {
   "cell_type": "code",
   "execution_count": null,
   "metadata": {},
   "outputs": [],
   "source": [
    "df['Cluster'] = dbscan.fit_predict(coords_scaled)  # Assign the cluster labels\n",
    "\n",
    "# Display the size of each cluster\n",
    "df['Cluster'].value_counts()"
   ]
  },
  {
   "cell_type": "markdown",
   "metadata": {},
   "source": [
    "As you can see, there are two relatively large clusters and 79 points labelled as noise (-1).\n",
    "### Plot the museums on a basemap of Canada, colored by cluster label.\n"
   ]
  },
  {
   "cell_type": "code",
   "execution_count": null,
   "metadata": {},
   "outputs": [],
   "source": [
    "plot_clustered_locations(df, title='Museums Clustered by Proximity')"
   ]
  },
  {
   "cell_type": "markdown",
   "metadata": {},
   "source": [
    "- What do you see? \n",
    "- What size is the smallest cluster? \n",
    "- Do you think the clusters make sense in terms of what you expect to see? \n",
    "- Do you think there should be more clusters in some regions? Why?\n"
   ]
  },
  {
   "cell_type": "markdown",
   "metadata": {},
   "source": [
    "One key thing to notice here is that the clusters are not uniformly dense. \n",
    "\n",
    "For example, the points are quite densely packed in a few regions but are relatively sparse in between. \n",
    "\n",
    "DBSCAN agglomerates neighboring clusters together when they are close enough. \n",
    "\n",
    "Let's see how a hierarchical density-based clustering algorithm like HDBSCAN performs.\n"
   ]
  },
  {
   "cell_type": "markdown",
   "metadata": {},
   "source": [
    "## Build an HDBSCAN clustering model\n",
    "At this stage, you've already loaded your data and extracted the museum coordinates into a dataframe, df.\n",
    "\n",
    "You've also stored properly scaled coordinates as the 'coords_scaled' array.\n",
    "\n",
    "All that remains is to:\n",
    "- Fit and transform HDBSCAN to your scaled coordinates\n",
    "- Extract the cluster labels\n",
    "- Plot the results on the same basemap as before\n",
    "\n",
    "Reasonable HDBSCAN parameters have been selected for you to start with.\n"
   ]
  },
  {
   "cell_type": "markdown",
   "metadata": {},
   "source": [
    "#### Initialize an HDBSCAN model\n"
   ]
  },
  {
   "cell_type": "code",
   "execution_count": null,
   "metadata": {},
   "outputs": [],
   "source": [
    "min_samples=None\n",
    "min_cluster_size=3\n",
    "hdb = hdbscan.HDBSCAN(min_samples=min_samples, min_cluster_size=min_cluster_size, metric='euclidean')  # You can adjust parameters as needed"
   ]
  },
  {
   "cell_type": "markdown",
   "metadata": {},
   "source": [
    "### Exercise 6. Assign the cluster labels to your unscaled coordinate dataframe and display the counts of each cluster label.\n"
   ]
  },
  {
   "cell_type": "code",
   "execution_count": null,
   "metadata": {},
   "outputs": [],
   "source": [
    "# Enter code here:\n",
    "\n",
    "# Assign labels\n",
    "df['Cluster'] = hdb.fit_predict(...)  # Another way to assign the labels\n",
    "\n",
    "# Display the size of each cluster\n",
    "df['Cluster']....()"
   ]
  },
  {
   "cell_type": "markdown",
   "metadata": {},
   "source": [
    "<details><summary>Click here for the solution</summary>\n",
    "\n",
    "```python\n",
    "# Assign labels\n",
    "df['Cluster'] = hdb.fit_predict(coords_scaled)  # Another way to assign the labels\n",
    "\n",
    "# Display the size of each cluster\n",
    "df['Cluster'].value_counts()\n",
    "```\n"
   ]
  },
  {
   "cell_type": "markdown",
   "metadata": {},
   "source": [
    "As you can see, unlike the case for DBSCAN, clusters quite uniformly sized, although there is a quite lot of noise identified.\n",
    "### Exercise 7. Plot the hierarchically clustered museums on a basemap of Canada, colored by cluster label.\n"
   ]
  },
  {
   "cell_type": "code",
   "execution_count": null,
   "metadata": {},
   "outputs": [],
   "source": [
    "# Plot the museum clusters\n",
    "...(..., title='Museums Hierarchically Clustered by Proximity')"
   ]
  },
  {
   "cell_type": "markdown",
   "metadata": {},
   "source": [
    "<details><summary>Click here for the solution</summary>\n",
    "    \n",
    "```python\n",
    "# Plot the museum clusters\n",
    "plot_clustered_locations(df, title='Museums Hierarchically Clustered by Proximity')\n",
    "```\n"
   ]
  },
  {
   "cell_type": "markdown",
   "metadata": {},
   "source": [
    "### Closing remarks\n"
   ]
  },
  {
   "cell_type": "markdown",
   "metadata": {},
   "source": [
    "Take a close look at the map. \n",
    "- What's different about these results compared to DBSCAN?\n",
    "- It might seem like there are more points identified as noise, but is that the case?\n",
    "- Can you see the variations in density that HDBSCAN captures?\n",
    "- In practice, you would want to investigate much deeper but at least you get the idea here.\n"
   ]
  },
  {
   "cell_type": "markdown",
   "metadata": {},
   "source": [
    "## Summary\n",
    "Congratulations! You're ready to move on to your next lesson! In this lab, you learned how to implement DBSCAN and HDBSCAN clustering models using scikit-learn on real data from StatCan, focusing on museum locations across Canada. You also compared the performance of the two clustering techniques.\n",
    "\n",
    "## Author\n",
    "\n",
    "<a href=\"https://www.linkedin.com/in/jpgrossman/\" target=\"_blank\">Jeff Grossman</a>\n",
    "\n",
    "\n",
    "### Other Contributors\n",
    "\n",
    "<a href=\"https://www.linkedin.com/in/abhishek-gagneja-23051987/\" target=\"_blank\">Abhishek Gagneja</a>\n",
    "\n",
    "\n",
    "<!-- ## Changelog\n",
    "\n",
    "| Date | Version | Changed by | Change Description |\n",
    "|:------------|:------|:------------------|:---------------------------------------|\n",
    "| 2024-11-05 | 1.0  | Jeff Grossman    | Update content and practice exercises |\n",
    " -->\n",
    "\n",
    "\n",
    "## <h3 align=\"center\"> © IBM Corporation. All rights reserved. <h3/>\n",
    "\n",
    "\n"
   ]
  }
 ],
 "metadata": {
  "kernelspec": {
   "display_name": "Python 3 (ipykernel)",
   "language": "python",
   "name": "python3"
  },
  "language_info": {
   "codemirror_mode": {
    "name": "ipython",
    "version": 3
   },
   "file_extension": ".py",
   "mimetype": "text/x-python",
   "name": "python",
   "nbconvert_exporter": "python",
   "pygments_lexer": "ipython3",
   "version": "3.12.8"
  },
  "prev_pub_hash": "4140caeab2a312a0267718036ee66e12616d837761480db142164787e6968805"
 },
 "nbformat": 4,
 "nbformat_minor": 4
}
